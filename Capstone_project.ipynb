{
 "cells": [
  {
   "cell_type": "code",
   "execution_count": null,
   "id": "4645fc1d-11f5-4d35-a4f4-17ccc0667749",
   "metadata": {},
   "outputs": [],
   "source": [
    "#Import the library\n",
    "import pandas as pd\n",
    "import numpy as np\n",
    "import matplotlib.pyplot as plt\n",
    "import seaborn as sns\n",
    "print('All libraries are imported')"
   ]
  },
  {
   "cell_type": "code",
   "execution_count": null,
   "id": "11ae15de-3846-4558-b97d-4f598c8ea83c",
   "metadata": {},
   "outputs": [],
   "source": [
    "#Load the data\n",
    "data=pd.read_excel('data.xlsx')\n",
    "print('data imported')"
   ]
  },
  {
   "cell_type": "code",
   "execution_count": null,
   "id": "52079491-1864-4bbc-8d66-7cda36ba4c6a",
   "metadata": {},
   "outputs": [],
   "source": [
    "#Top 5 rows\n",
    "data.head()"
   ]
  },
  {
   "cell_type": "code",
   "execution_count": null,
   "id": "5c2f8989-285f-4337-8ec9-191b64b040c0",
   "metadata": {},
   "outputs": [],
   "source": [
    "#rows and columns count\n",
    "data.shape"
   ]
  },
  {
   "cell_type": "markdown",
   "id": "1634afb0-dafa-4de2-8325-01d595e71984",
   "metadata": {},
   "source": [
    "Get data details"
   ]
  },
  {
   "cell_type": "code",
   "execution_count": null,
   "id": "94675700-6c20-435d-bae6-566392e2d549",
   "metadata": {},
   "outputs": [],
   "source": [
    "data.info()"
   ]
  },
  {
   "cell_type": "code",
   "execution_count": null,
   "id": "4aaa69fe-97c9-4a1b-821f-d5d730b4dac5",
   "metadata": {},
   "outputs": [],
   "source": [
    "#Check for missing values\n",
    "data.isnull().sum()"
   ]
  },
  {
   "cell_type": "code",
   "execution_count": null,
   "id": "17ec82c8-0870-48f4-a6a3-543a979e18ab",
   "metadata": {},
   "outputs": [],
   "source": [
    "#for checking duplicates\n",
    "duplicate=data[data.duplicated()]\n",
    "duplicate"
   ]
  },
  {
   "cell_type": "code",
   "execution_count": null,
   "id": "8127e8fc-f7fc-43f3-9dcd-1ff8d97de370",
   "metadata": {},
   "outputs": [],
   "source": [
    "#removing the duplicates\n",
    "data.drop_duplicates(inplace=True)"
   ]
  },
  {
   "cell_type": "code",
   "execution_count": null,
   "id": "ec6ce470-579a-407a-a34b-0cfe173fb594",
   "metadata": {},
   "outputs": [],
   "source": [
    "data.shape"
   ]
  },
  {
   "cell_type": "markdown",
   "id": "d57afbd5-8373-40d0-b372-189bf56f08d7",
   "metadata": {},
   "source": [
    "Printing statistical summary of data"
   ]
  },
  {
   "cell_type": "code",
   "execution_count": null,
   "id": "493efb86-1bb8-4740-a1ab-2ae188482ab9",
   "metadata": {},
   "outputs": [],
   "source": [
    "data.describe()"
   ]
  },
  {
   "cell_type": "code",
   "execution_count": null,
   "id": "f52460c5-3c25-4305-8db2-b87c6ccc4ca2",
   "metadata": {},
   "outputs": [],
   "source": [
    "data['age'].describe()"
   ]
  },
  {
   "cell_type": "markdown",
   "id": "18c602f9-cab5-4a4a-857f-fc8e6691676d",
   "metadata": {},
   "source": [
    "Performing EDA"
   ]
  },
  {
   "cell_type": "code",
   "execution_count": null,
   "id": "1995aedb-f7fd-4e35-be6b-0639d14abcaf",
   "metadata": {},
   "outputs": [],
   "source": [
    "#Target variable\n",
    "data['target'].value_counts()"
   ]
  },
  {
   "cell_type": "code",
   "execution_count": null,
   "id": "56d20236-6eb2-4a6c-a585-7dfcce7e33c2",
   "metadata": {},
   "outputs": [],
   "source": [
    "data['target'].value_counts().plot(kind='bar')\n",
    "plt.show()"
   ]
  },
  {
   "cell_type": "code",
   "execution_count": null,
   "id": "b1e03e69-71e7-4c14-85e2-8b561e1f81f3",
   "metadata": {},
   "outputs": [],
   "source": [
    "#Gender distribution\n",
    "sns.countplot(x=data['sex'])\n",
    "plt.title('Gender Distribution')\n",
    "plt.show()"
   ]
  },
  {
   "cell_type": "code",
   "execution_count": null,
   "id": "5ef5b227-6d13-4e3f-ac39-1a1e462f6666",
   "metadata": {},
   "outputs": [],
   "source": [
    "#Distribution of gender WRT heart attack\n",
    "sns.countplot(x=data['sex'],hue=data['target'].astype(str),palette='Set2',data=data)\n",
    "plt.title('Gender Distribution with respect to Heart Attack')\n",
    "plt.show()"
   ]
  },
  {
   "cell_type": "code",
   "execution_count": null,
   "id": "37c37efe-8f6a-49f0-b9d2-253cf34676bb",
   "metadata": {},
   "outputs": [],
   "source": [
    "#Chest pain Distribution\n",
    "sns.countplot(x=data['cp'],palette='Set2')\n",
    "plt.title('Chest Pain Distribution')\n",
    "plt.show()\n"
   ]
  },
  {
   "cell_type": "code",
   "execution_count": null,
   "id": "4e70bf96-df3b-4a88-ae03-dfaf6b1e6432",
   "metadata": {},
   "outputs": [],
   "source": [
    "sns.countplot(x=data['cp'],hue=data['target'].astype(str),palette='Set2',data=data)\n",
    "plt.title('Chest Pain Distribution')\n",
    "plt.show()"
   ]
  },
  {
   "cell_type": "code",
   "execution_count": null,
   "id": "67e2d3af-b0b3-4091-9fd9-0cf0df2e43a6",
   "metadata": {},
   "outputs": [],
   "source": [
    "#Distribution of age, for numerical values histogram is one the good plotting graph\n",
    "data.replace([np.inf,-np.inf], np.nan, inplace=True)\n",
    "sns.histplot(x=data['age'])\n",
    "plt.show()"
   ]
  },
  {
   "cell_type": "code",
   "execution_count": null,
   "id": "c142612d-eb72-4da8-b3f2-5b4104240bf0",
   "metadata": {},
   "outputs": [],
   "source": [
    "data2=data[data['target']==1]"
   ]
  },
  {
   "cell_type": "code",
   "execution_count": null,
   "id": "51489ba0-2a6d-4805-a5b5-072757309f53",
   "metadata": {},
   "outputs": [],
   "source": [
    "data2.shape"
   ]
  },
  {
   "cell_type": "code",
   "execution_count": null,
   "id": "5864f78c-d070-427c-bdaa-7f8398d1d21b",
   "metadata": {},
   "outputs": [],
   "source": [
    "data.replace([np.inf,-np.inf], np.nan, inplace=True)\n",
    "sns.histplot(x=data2['age'])\n",
    "plt.show()"
   ]
  },
  {
   "cell_type": "code",
   "execution_count": null,
   "id": "2f01ccb4-c8ee-49e1-b4a0-0cd17e8cc4cc",
   "metadata": {},
   "outputs": [],
   "source": [
    "sns.histplot(x=data['chol'])\n",
    "plt.show()"
   ]
  },
  {
   "cell_type": "code",
   "execution_count": null,
   "id": "c8bbce11-5363-45b8-b52a-067580228884",
   "metadata": {},
   "outputs": [],
   "source": [
    "sns.histplot(x=data2['chol'])\n",
    "plt.show()"
   ]
  },
  {
   "cell_type": "code",
   "execution_count": null,
   "id": "7d046aa8-caa0-4598-87db-11616a976c83",
   "metadata": {},
   "outputs": [],
   "source": [
    "sns.countplot(x=data['thal'],palette='Set2')\n",
    "plt.title('thal Distribution')\n",
    "plt.show()"
   ]
  },
  {
   "cell_type": "code",
   "execution_count": null,
   "id": "d71330c9-9798-446f-94c1-a1c8a269968b",
   "metadata": {},
   "outputs": [],
   "source": [
    "sns.histplot(x=data2['trestbps'])\n",
    "plt.show()"
   ]
  },
  {
   "cell_type": "code",
   "execution_count": null,
   "id": "4cffca9d-460a-447c-833e-c062ebe8dd4d",
   "metadata": {},
   "outputs": [],
   "source": [
    "sns.countplot(x=data['exang'],palette='Set2')\n",
    "plt.title('Excercising people Distribution')\n",
    "plt.show()"
   ]
  },
  {
   "cell_type": "code",
   "execution_count": null,
   "id": "81843b33-5acf-43ee-a6ac-87703a5b0b20",
   "metadata": {},
   "outputs": [],
   "source": [
    "#Creating Correlations\n",
    "plt.figure(figsize=(12,8))\n",
    "sns.heatmap(data.corr(),annot=True)\n",
    "plt.show()"
   ]
  },
  {
   "cell_type": "code",
   "execution_count": null,
   "id": "2759688e-8f81-4e73-9c0d-fa4a4bc684ab",
   "metadata": {},
   "outputs": [],
   "source": [
    "data.columns"
   ]
  },
  {
   "cell_type": "code",
   "execution_count": null,
   "id": "970979ac-a1cb-4e85-8f09-949fd8cb5f25",
   "metadata": {},
   "outputs": [],
   "source": [
    "data.head()"
   ]
  },
  {
   "cell_type": "code",
   "execution_count": null,
   "id": "da5c00fa-ef55-460c-b870-6b0cb513c0b3",
   "metadata": {},
   "outputs": [],
   "source": [
    "cont_features=['age','trestbps','chol','thalach','oldpeak']\n",
    "plt.figure(figsize=(12,8))\n",
    "sns.pairplot(data[cont_features])\n",
    "plt.show()"
   ]
  },
  {
   "cell_type": "markdown",
   "id": "9da70e85-b25b-4f28-8d3e-677028e2e9a0",
   "metadata": {},
   "source": [
    "Building Machine learning Model"
   ]
  },
  {
   "cell_type": "code",
   "execution_count": null,
   "id": "3de9efae-2631-418c-9a58-9f7c52d46873",
   "metadata": {},
   "outputs": [],
   "source": [
    "#Extracting Independent variable and dependent variable\n",
    "X=data.iloc[:,:-1].values\n",
    "Y=data.iloc[:,-1].values"
   ]
  },
  {
   "cell_type": "code",
   "execution_count": null,
   "id": "b110fa7e-4e76-48a1-bbe4-3feee103fbe5",
   "metadata": {},
   "outputs": [],
   "source": [
    "X"
   ]
  },
  {
   "cell_type": "markdown",
   "id": "728b7f6b-a37a-4e31-89d5-9836bd1313cb",
   "metadata": {},
   "source": [
    "Split the data"
   ]
  },
  {
   "cell_type": "code",
   "execution_count": null,
   "id": "e60ba1b5-c699-40ea-b4ec-f7f3c21d2457",
   "metadata": {},
   "outputs": [],
   "source": [
    "from sklearn.model_selection import train_test_split\n",
    "X_train,X_test,Y_train,Y_test=train_test_split(X,Y,test_size=0.2,random_state=42)"
   ]
  },
  {
   "cell_type": "code",
   "execution_count": null,
   "id": "b8b1b7d4-471f-4c23-839e-c73adede17b5",
   "metadata": {},
   "outputs": [],
   "source": [
    "X_train.shape"
   ]
  },
  {
   "cell_type": "code",
   "execution_count": null,
   "id": "8a6115ce-abc0-4032-a8da-d9141f453781",
   "metadata": {},
   "outputs": [],
   "source": [
    "X_test.shape"
   ]
  },
  {
   "cell_type": "code",
   "execution_count": null,
   "id": "550ece89-3935-4202-b07e-fb4e8281ffe0",
   "metadata": {},
   "outputs": [],
   "source": [
    "X_train"
   ]
  },
  {
   "cell_type": "code",
   "execution_count": null,
   "id": "669cfc4c-ea69-470f-8724-fb64e27f0508",
   "metadata": {},
   "outputs": [],
   "source": [
    "#Apply Standard scaler\n",
    "from sklearn.preprocessing import StandardScaler\n",
    "sc=StandardScaler()\n",
    "X_train=sc.fit_transform(X_train) #Learning #Applying\n",
    "X_test=sc.transform(X_test) #if we use only transform thaen we can avoid data leakage "
   ]
  },
  {
   "cell_type": "code",
   "execution_count": null,
   "id": "a26ddd9d-8ffb-4e4f-9683-201fd51e4b2c",
   "metadata": {},
   "outputs": [],
   "source": [
    "X_train"
   ]
  },
  {
   "cell_type": "markdown",
   "id": "63569431-19ec-4fa4-b4fc-0e2cf896ebfa",
   "metadata": {},
   "source": [
    "Build the Model"
   ]
  },
  {
   "cell_type": "code",
   "execution_count": null,
   "id": "2124b8a3-75ca-4da8-bda9-f87f477c0500",
   "metadata": {},
   "outputs": [],
   "source": [
    "from sklearn.linear_model import LogisticRegression\n",
    "log_reg=LogisticRegression()"
   ]
  },
  {
   "cell_type": "code",
   "execution_count": null,
   "id": "1e1bc7bf-a050-49ed-a3e8-9e833b262fbb",
   "metadata": {},
   "outputs": [],
   "source": [
    "#Training \n",
    "log_reg.fit(X_train,Y_train)\n",
    "print('training completed')"
   ]
  },
  {
   "cell_type": "code",
   "execution_count": null,
   "id": "e29f2747-f30d-4e58-a630-2586fd6a8ca8",
   "metadata": {},
   "outputs": [],
   "source": [
    "#Predicting the data\n",
    "Y_pred=log_reg.predict(X_test)"
   ]
  },
  {
   "cell_type": "code",
   "execution_count": null,
   "id": "61f4fa5d-8549-4555-8d94-77febdf4d465",
   "metadata": {},
   "outputs": [],
   "source": [
    "Y_pred"
   ]
  },
  {
   "cell_type": "code",
   "execution_count": null,
   "id": "7c0f7736-d11d-461e-a6eb-59822bea78e3",
   "metadata": {},
   "outputs": [],
   "source": [
    "Y_test"
   ]
  },
  {
   "cell_type": "code",
   "execution_count": null,
   "id": "cb928e3b-2579-4b6d-8f89-cd0f192f98d6",
   "metadata": {},
   "outputs": [],
   "source": [
    "#Calculating accuracy \n",
    "from sklearn.metrics import confusion_matrix\n",
    "print(confusion_matrix(Y_test,Y_pred))"
   ]
  },
  {
   "cell_type": "markdown",
   "id": "c0364c8f-7110-40a0-94d5-3e31993a2761",
   "metadata": {},
   "source": [
    "TN----True Negative---25----0 pred as 0\n",
    "TP----True Positive---26----1 pred as 1\n",
    "False Positive/error--4-----0 pred as 1\n",
    "False Negative--dangerous-6-1 pred as 0"
   ]
  },
  {
   "cell_type": "markdown",
   "id": "5f778020-0657-40c0-b0ca-4e93bd489c0a",
   "metadata": {},
   "source": [
    "Accuracy = TP+TN/All #it means how much we did correct task/overall"
   ]
  },
  {
   "cell_type": "code",
   "execution_count": null,
   "id": "aead1e36-39fe-4ddf-a50b-c316ff0a9ef5",
   "metadata": {},
   "outputs": [],
   "source": [
    "from sklearn.metrics import accuracy_score\n",
    "print(accuracy_score(Y_test,Y_pred))"
   ]
  },
  {
   "cell_type": "code",
   "execution_count": null,
   "id": "12c0bed8-66b0-480e-84f3-bcf51fd1a1d3",
   "metadata": {},
   "outputs": [],
   "source": [
    "pip install nbstripout"
   ]
  },
  {
   "cell_type": "code",
   "execution_count": null,
   "id": "b465fde8-c300-47cd-99db-917b133188cf",
   "metadata": {},
   "outputs": [],
   "source": [
    "nbstripout Capstone_project.ipynb\n"
   ]
  },
  {
   "cell_type": "code",
   "execution_count": 12,
   "id": "d2fdaa0b-77ca-463c-80d6-6804d9737c7f",
   "metadata": {},
   "outputs": [
    {
     "name": "stdout",
     "output_type": "stream",
     "text": [
      "C:\\Users\\Dell\\Downloads\\Dataset\n"
     ]
    }
   ],
   "source": [
    "cd C:\\Users\\Dell\\Downloads\\Dataset"
   ]
  }
 ],
 "metadata": {
  "kernelspec": {
   "display_name": "Python 3 (ipykernel)",
   "language": "python",
   "name": "python3"
  },
  "language_info": {
   "codemirror_mode": {
    "name": "ipython",
    "version": 3
   },
   "file_extension": ".py",
   "mimetype": "text/x-python",
   "name": "python",
   "nbconvert_exporter": "python",
   "pygments_lexer": "ipython3",
   "version": "3.11.7"
  }
 },
 "nbformat": 4,
 "nbformat_minor": 5
}
